{
 "cells": [
  {
   "cell_type": "code",
   "execution_count": 15,
   "id": "367b5a2d-bda0-45de-b48c-d7fbe9ea7e2e",
   "metadata": {},
   "outputs": [
    {
     "name": "stdout",
     "output_type": "stream",
     "text": [
      "Fichier chargé : 07156099999_2019.csv - Shape : (365, 28)\n",
      "Fichier chargé : 07156099999_2020.csv - Shape : (363, 28)\n"
     ]
    }
   ],
   "source": [
    "import os\n",
    "import pandas as pd\n",
    "import numpy as np\n",
    "\n",
    "data_folder = './DATA'\n",
    "\n",
    "# Liste pour stocker les DataFrames\n",
    "dataframes = []\n",
    "\n",
    "# Parcourir tous les fichiers dans le dossier DATA\n",
    "for filename in os.listdir(data_folder):\n",
    "    # Vérifier si le fichier est un CSV\n",
    "    if filename.endswith('.csv'):\n",
    "        # Créer le chemin complet du fichier\n",
    "        file_path = os.path.join(data_folder, filename)\n",
    "        \n",
    "        # Lire le CSV et ajouter le DataFrame à la liste\n",
    "        df = pd.read_csv(file_path)\n",
    "        dataframes.append(df)\n",
    "        \n",
    "        # Optionnellement, afficher le nom du fichier et sa forme\n",
    "        print(f\"Fichier chargé : {filename} - Shape : {df.shape}\")"
   ]
  },
  {
   "cell_type": "code",
   "execution_count": 17,
   "id": "c2712117-d186-49a1-932d-4386538d15d9",
   "metadata": {},
   "outputs": [],
   "source": [
    "weather = pd.concat( dataframes, ignore_index = True )"
   ]
  },
  {
   "cell_type": "code",
   "execution_count": 18,
   "id": "2b0c3a98-55c2-47b4-baef-8d1095151d5e",
   "metadata": {},
   "outputs": [
    {
     "data": {
      "text/html": [
       "<div>\n",
       "<style scoped>\n",
       "    .dataframe tbody tr th:only-of-type {\n",
       "        vertical-align: middle;\n",
       "    }\n",
       "\n",
       "    .dataframe tbody tr th {\n",
       "        vertical-align: top;\n",
       "    }\n",
       "\n",
       "    .dataframe thead th {\n",
       "        text-align: right;\n",
       "    }\n",
       "</style>\n",
       "<table border=\"1\" class=\"dataframe\">\n",
       "  <thead>\n",
       "    <tr style=\"text-align: right;\">\n",
       "      <th></th>\n",
       "      <th>STATION</th>\n",
       "      <th>DATE</th>\n",
       "      <th>LATITUDE</th>\n",
       "      <th>LONGITUDE</th>\n",
       "      <th>ELEVATION</th>\n",
       "      <th>NAME</th>\n",
       "      <th>TEMP</th>\n",
       "      <th>TEMP_ATTRIBUTES</th>\n",
       "      <th>DEWP</th>\n",
       "      <th>DEWP_ATTRIBUTES</th>\n",
       "      <th>...</th>\n",
       "      <th>MXSPD</th>\n",
       "      <th>GUST</th>\n",
       "      <th>MAX</th>\n",
       "      <th>MAX_ATTRIBUTES</th>\n",
       "      <th>MIN</th>\n",
       "      <th>MIN_ATTRIBUTES</th>\n",
       "      <th>PRCP</th>\n",
       "      <th>PRCP_ATTRIBUTES</th>\n",
       "      <th>SNDP</th>\n",
       "      <th>FRSHTT</th>\n",
       "    </tr>\n",
       "  </thead>\n",
       "  <tbody>\n",
       "    <tr>\n",
       "      <th>0</th>\n",
       "      <td>7156099999</td>\n",
       "      <td>2019-01-01</td>\n",
       "      <td>48.816667</td>\n",
       "      <td>2.333333</td>\n",
       "      <td>77.0</td>\n",
       "      <td>PARIS MONTSOURIS, FR</td>\n",
       "      <td>47.1</td>\n",
       "      <td>24</td>\n",
       "      <td>41.8</td>\n",
       "      <td>24</td>\n",
       "      <td>...</td>\n",
       "      <td>11.1</td>\n",
       "      <td>999.9</td>\n",
       "      <td>49.3</td>\n",
       "      <td></td>\n",
       "      <td>45.7</td>\n",
       "      <td></td>\n",
       "      <td>0.01</td>\n",
       "      <td>G</td>\n",
       "      <td>999.9</td>\n",
       "      <td>0</td>\n",
       "    </tr>\n",
       "    <tr>\n",
       "      <th>1</th>\n",
       "      <td>7156099999</td>\n",
       "      <td>2019-01-02</td>\n",
       "      <td>48.816667</td>\n",
       "      <td>2.333333</td>\n",
       "      <td>77.0</td>\n",
       "      <td>PARIS MONTSOURIS, FR</td>\n",
       "      <td>43.3</td>\n",
       "      <td>24</td>\n",
       "      <td>34.4</td>\n",
       "      <td>24</td>\n",
       "      <td>...</td>\n",
       "      <td>9.9</td>\n",
       "      <td>999.9</td>\n",
       "      <td>47.7</td>\n",
       "      <td></td>\n",
       "      <td>41.4</td>\n",
       "      <td>*</td>\n",
       "      <td>0.00</td>\n",
       "      <td>G</td>\n",
       "      <td>999.9</td>\n",
       "      <td>0</td>\n",
       "    </tr>\n",
       "  </tbody>\n",
       "</table>\n",
       "<p>2 rows × 28 columns</p>\n",
       "</div>"
      ],
      "text/plain": [
       "      STATION        DATE   LATITUDE  LONGITUDE  ELEVATION  \\\n",
       "0  7156099999  2019-01-01  48.816667   2.333333       77.0   \n",
       "1  7156099999  2019-01-02  48.816667   2.333333       77.0   \n",
       "\n",
       "                   NAME  TEMP  TEMP_ATTRIBUTES  DEWP  DEWP_ATTRIBUTES  ...  \\\n",
       "0  PARIS MONTSOURIS, FR  47.1               24  41.8               24  ...   \n",
       "1  PARIS MONTSOURIS, FR  43.3               24  34.4               24  ...   \n",
       "\n",
       "   MXSPD   GUST   MAX  MAX_ATTRIBUTES   MIN  MIN_ATTRIBUTES  PRCP  \\\n",
       "0   11.1  999.9  49.3                  45.7                  0.01   \n",
       "1    9.9  999.9  47.7                  41.4               *  0.00   \n",
       "\n",
       "   PRCP_ATTRIBUTES   SNDP  FRSHTT  \n",
       "0                G  999.9       0  \n",
       "1                G  999.9       0  \n",
       "\n",
       "[2 rows x 28 columns]"
      ]
     },
     "execution_count": 18,
     "metadata": {},
     "output_type": "execute_result"
    }
   ],
   "source": [
    "weather.head(2)"
   ]
  },
  {
   "cell_type": "code",
   "execution_count": 19,
   "id": "47d6223e-809e-41a8-8167-630bc15d7c47",
   "metadata": {},
   "outputs": [],
   "source": [
    "#nettoyer les espaces\n",
    "df.columns = df.columns.str.strip()"
   ]
  },
  {
   "cell_type": "code",
   "execution_count": 20,
   "id": "d8e2fe9d-6186-4f5e-ac42-cbb2505e7fad",
   "metadata": {},
   "outputs": [],
   "source": [
    "#transformer les données en numérique\n",
    "numeric_columns = ['TEMP', 'DEWP', 'SLP', 'STP', 'VISIB', 'WDSP', 'MXSPD', 'GUST', 'MAX', 'MIN', 'PRCP', 'SNDP']\n",
    "for col in numeric_columns:\n",
    "    df[col] = pd.to_numeric(df[col], errors='coerce')  # Convertir en numérique, remplacer les erreurs par NaN"
   ]
  },
  {
   "cell_type": "code",
   "execution_count": 21,
   "id": "ced7fc67-e950-4ee0-a875-bc7d300f3c33",
   "metadata": {},
   "outputs": [],
   "source": [
    "#Convertir la colonne DATE en type datetime\n",
    "df['DATE'] = pd.to_datetime(df['DATE'], errors='coerce')"
   ]
  },
  {
   "cell_type": "code",
   "execution_count": 22,
   "id": "22f563c5-0d2c-4482-bdd3-aaa0987c80d8",
   "metadata": {},
   "outputs": [],
   "source": [
    "#Remplacer les valeurs spécifiques comme \"999.9\" et \"*\" par NaN dans les colonnes numériques\n",
    "df.replace({\"999.9\": np.nan, \"*\": np.nan}, inplace=True)"
   ]
  },
  {
   "cell_type": "code",
   "execution_count": 23,
   "id": "86ac0f91-8d9e-42eb-b5c4-b62d758dfce3",
   "metadata": {},
   "outputs": [],
   "source": [
    "#Compter le nombre de valeurs NaN par colonne\n",
    "nan_count_per_column = df.isna().sum()"
   ]
  },
  {
   "cell_type": "code",
   "execution_count": 24,
   "id": "e3036869-43d8-49cf-a8bd-d5732da2b5d1",
   "metadata": {},
   "outputs": [],
   "source": [
    "#Compter le nombre total de valeurs NaN dans tout le DataFrame\n",
    "total_nan_count = df.isna().sum().sum()"
   ]
  },
  {
   "cell_type": "code",
   "execution_count": 25,
   "id": "6cc7017e-6489-4400-88a8-d5e32983c490",
   "metadata": {},
   "outputs": [
    {
     "name": "stdout",
     "output_type": "stream",
     "text": [
      "Nombre de NaN par colonne\n",
      "STATION              0\n",
      "DATE                 0\n",
      "LATITUDE             0\n",
      "LONGITUDE            0\n",
      "ELEVATION            0\n",
      "NAME                 0\n",
      "TEMP                 0\n",
      "TEMP_ATTRIBUTES      0\n",
      "DEWP                 0\n",
      "DEWP_ATTRIBUTES      0\n",
      "SLP                  0\n",
      "SLP_ATTRIBUTES       0\n",
      "STP                  0\n",
      "STP_ATTRIBUTES       0\n",
      "VISIB                0\n",
      "VISIB_ATTRIBUTES     0\n",
      "WDSP                 0\n",
      "WDSP_ATTRIBUTES      0\n",
      "MXSPD                0\n",
      "GUST                 0\n",
      "MAX                  0\n",
      "MAX_ATTRIBUTES      14\n",
      "MIN                  0\n",
      "MIN_ATTRIBUTES      67\n",
      "PRCP                 0\n",
      "PRCP_ATTRIBUTES      0\n",
      "SNDP                 0\n",
      "FRSHTT               0\n",
      "dtype: int64\n",
      "Nombre total de NaN dans le DataFrame : 81\n"
     ]
    }
   ],
   "source": [
    "#Afficher les résultats\n",
    "print(\"Nombre de NaN par colonne\")\n",
    "print(nan_count_per_column)\n",
    "print(f\"Nombre total de NaN dans le DataFrame : {total_nan_count}\")"
   ]
  },
  {
   "cell_type": "code",
   "execution_count": null,
   "id": "dd024228-f38b-482b-b0f1-2313b6a80933",
   "metadata": {},
   "outputs": [],
   "source": []
  }
 ],
 "metadata": {
  "kernelspec": {
   "display_name": "Python 3 (ipykernel)",
   "language": "python",
   "name": "python3"
  },
  "language_info": {
   "codemirror_mode": {
    "name": "ipython",
    "version": 3
   },
   "file_extension": ".py",
   "mimetype": "text/x-python",
   "name": "python",
   "nbconvert_exporter": "python",
   "pygments_lexer": "ipython3",
   "version": "3.11.9"
  }
 },
 "nbformat": 4,
 "nbformat_minor": 5
}
